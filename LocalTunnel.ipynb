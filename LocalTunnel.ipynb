{
  "nbformat": 4,
  "nbformat_minor": 0,
  "metadata": {
    "colab": {
      "provenance": [],
      "mount_file_id": "1NdAlpTXXNtCG1uCFZkMyrhVpYp_2tQ0l",
      "authorship_tag": "ABX9TyORbGVoVhCUV26K+erw4EjA",
      "include_colab_link": true
    },
    "kernelspec": {
      "name": "python3",
      "display_name": "Python 3"
    },
    "language_info": {
      "name": "python"
    }
  },
  "cells": [
    {
      "cell_type": "markdown",
      "metadata": {
        "id": "view-in-github",
        "colab_type": "text"
      },
      "source": [
        "<a href=\"https://colab.research.google.com/github/alanwr/teste/blob/main/LocalTunnel.ipynb\" target=\"_parent\"><img src=\"https://colab.research.google.com/assets/colab-badge.svg\" alt=\"Open In Colab\"/></a>"
      ]
    },
    {
      "cell_type": "code",
      "execution_count": null,
      "metadata": {
        "id": "rgs2qfPrMrrR"
      },
      "outputs": [],
      "source": [
        "!pip install streamlit"
      ]
    },
    {
      "cell_type": "code",
      "source": [
        "%%writefile app.py \n",
        "import streamlit as st\n",
        "import pandas as pd \n",
        "import numpy as np\n",
        "import matplotlib.pyplot as plt\n",
        "\n",
        "st.set_option('deprecation.showPyplotGlobalUse', False)\n",
        "\n",
        "st.sidebar.image('/content/drive/MyDrive/BD_Trades/APP_MC/01 Logo_TO.png')\n",
        "\n",
        "st.title(\"Análise estatística\")\n",
        "\n",
        "# Adicionando o selectbox à sidebar\n",
        "st.sidebar.title(\"Selecione o Trade System\")\n",
        "opcoes = ['BB - Fechou Fora, Fechou Dentro', 'Canal de Keltner', 'Cão Farejador', 'Cruzamento Di+ Di-', 'Cruzamento MMA 17x34', 'Dave Landry', \n",
        "'Estocástico Lento 70x30', 'Estocástico Lento 80x20', 'Gambitti', 'Gasparini', 'HiLo 7 períodos', 'IFR2 (Larry Connors)', \n",
        "'IFR2 com filtro IFR14', 'IFR4 (Larry Connors)', 'InsideBar', 'Joe Biden (com filtro MMA 20)', 'Joe Biden (sem filtros)', \n",
        "'Linha das sombras', 'Máximas e Mínimas', 'Medias 3 min/max ( Larry Williams)', 'Perdigão', 'Preço de Fechamento de Reversão', \n",
        "'Sistema MMA 9', 'Stop ATR 10 períodos', 'Terminator (Larry Connors)', 'Tik Tok (com filtro)', 'TikTok', 'Turtle' ]\n",
        "opcao_selecionada = st.sidebar.selectbox(\"Escolha uma opção:\", opcoes)\n",
        "\n",
        "st.sidebar.title(\"Time Frame\")\n",
        "time_frame = st.sidebar.selectbox(\"Escolha o Time Frame\", [\"Diário\", \"60 m\"])\n",
        "\n",
        "# Adicionando campos de data\n",
        "st.sidebar.title(\"Período\")\n",
        "data_inicio = st.sidebar.date_input(\"Data início\")\n",
        "data_fim = st.sidebar.date_input(\"Data término\")\n",
        "\n",
        "amostra = 200\n",
        "\n",
        "# Atribuir a base de dados ao sistema operacional selecionado\n",
        "if st.sidebar.button(\"EXECUTAR\"):    \n",
        "    if opcao_selecionada == \"Sistema MMA 9\":\n",
        "        df = pd.read_excel('/content/drive/MyDrive/BD_Trades/APP_MC/D 9.1.xlsx')\n",
        "        amostra = int(df.shape[0] * 0.15)\n",
        "    elif opcao_selecionada == \"Canal de Keltner\":\n",
        "        df = pd.read_excel('/content/drive/MyDrive/BD_Trades/APP_MC/D Canal de Keltner.xlsx')\n",
        "        amostra = int(df.shape[0] * 0.15)\n",
        "    elif opcao_selecionada == \"Cão Farejador\":\n",
        "        df = pd.read_excel('/content/drive/MyDrive/BD_Trades/APP_MC/D Cao Farejador.xlsx')\n",
        "        amostra = int(df.shape[0] * 0.15)\n",
        "    elif opcao_selecionada == \"Cruzamento MMA 17x34\":\n",
        "        df = pd.read_excel('/content/drive/MyDrive/BD_Trades/APP_MC/D Cruzamento MM 17 x 34.xlsx')\n",
        "        amostra = int(df.shape[0] * 0.15)\n",
        "    elif opcao_selecionada == \"Dave Landry\":\n",
        "        df = pd.read_excel('/content/drive/MyDrive/BD_Trades/APP_MC/D Dave Landry.xlsx')\n",
        "        amostra = int(df.shape[0] * 0.15)\n",
        "    elif opcao_selecionada == \"Cruzamento Di+ Di-\":\n",
        "        df = pd.read_excel('/content/drive/MyDrive/BD_Trades/APP_MC/D Di+Di-.xlsx')\n",
        "        amostra = int(df.shape[0] * 0.15)\n",
        "    elif opcao_selecionada == \"Estocástico Lento 80x20\":\n",
        "        df = pd.read_excel('/content/drive/MyDrive/BD_Trades/APP_MC/D Estoc Lento 8p 8020.xlsx')\n",
        "        amostra = int(df.shape[0] * 0.15)\n",
        "    elif opcao_selecionada == \"Estocástico Lento 70x30\":\n",
        "        df = pd.read_excel('/content/drive/MyDrive/BD_Trades/APP_MC/D Estocastico Lento 70 - 30.xlsx')\n",
        "        amostra = int(df.shape[0] * 0.15)\n",
        "    elif opcao_selecionada == \"BB - Fechou Fora, Fechou Dentro\":\n",
        "        df = pd.read_excel('/content/drive/MyDrive/BD_Trades/APP_MC/D Fechou Fora Fechou Dentro.xlsx')\n",
        "        amostra = int(df.shape[0] * 0.15)\n",
        "    elif opcao_selecionada == \"HiLo 7 períodos\":\n",
        "        df = pd.read_excel('/content/drive/MyDrive/BD_Trades/APP_MC/D HiLo 7P.xlsx')\n",
        "        amostra = int(df.shape[0] * 0.15)\n",
        "    elif opcao_selecionada == \"IFR2 com filtro IFR14\":\n",
        "        df = pd.read_excel('/content/drive/MyDrive/BD_Trades/APP_MC/D IFR2 25 IFR14 50.xlsx')\n",
        "        amostra = int(df.shape[0] * 0.15)\n",
        "    elif opcao_selecionada == \"IFR2 (Larry Connors)\":\n",
        "        df = pd.read_excel('/content/drive/MyDrive/BD_Trades/APP_MC/D IFR2.xlsx')\n",
        "        amostra = int(df.shape[0] * 0.15)\n",
        "    elif opcao_selecionada == \"IFR4 (Larry Connors)\":\n",
        "        df = pd.read_excel('/content/drive/MyDrive/BD_Trades/APP_MC/D IFR4.xlsx')\n",
        "        amostra = int(df.shape[0] * 0.15)\n",
        "    elif opcao_selecionada == \"InsideBar\":\n",
        "        df = pd.read_excel('/content/drive/MyDrive/BD_Trades/APP_MC/D InsideBar.xlsx')\n",
        "        amostra = int(df.shape[0] * 0.15)\n",
        "    elif opcao_selecionada == \"Joe Biden (sem filtros)\":\n",
        "        df = pd.read_excel('/content/drive/MyDrive/BD_Trades/APP_MC/D JOE sem filtro.xlsx')\n",
        "        amostra = int(df.shape[0] * 0.15)\n",
        "    elif opcao_selecionada == \"Linha das sombras\":\n",
        "        df = pd.read_excel('/content/drive/MyDrive/BD_Trades/APP_MC/D Linha da sombra.xlsx')\n",
        "        amostra = int(df.shape[0] * 0.15)\n",
        "    elif opcao_selecionada == \"Máximas e Mínimas\":\n",
        "        df = pd.read_excel('/content/drive/MyDrive/BD_Trades/APP_MC/D Máximas e Mínimas.xlsx')\n",
        "        amostra = int(df.shape[0] * 0.15)\n",
        "    elif opcao_selecionada == \"Medias 3 min/max ( Larry Williams)\":\n",
        "        df = pd.read_excel('/content/drive/MyDrive/BD_Trades/APP_MC/D Medias 3 Larry.xlsx')\n",
        "        amostra = int(df.shape[0] * 0.15)\n",
        "    elif opcao_selecionada == \"Perdigão\":\n",
        "        df = pd.read_excel('/content/drive/MyDrive/BD_Trades/APP_MC/D Perdigão.xlsx')\n",
        "        amostra = int(df.shape[0] * 0.15)\n",
        "    elif opcao_selecionada == \"Preço de Fechamento de Reversão\":\n",
        "        df = pd.read_excel('/content/drive/MyDrive/BD_Trades/APP_MC/D PFR.xlsx')\n",
        "        amostra = int(df.shape[0] * 0.15)\n",
        "    elif opcao_selecionada == \"Stop ATR 10 períodos\":\n",
        "        df = pd.read_excel('/content/drive/MyDrive/BD_Trades/APP_MC/D Stop ATR 10p.xlsx')\n",
        "        amostra = int(df.shape[0] * 0.15)\n",
        "    elif opcao_selecionada == \"Terminator (Larry Connors)\":\n",
        "        df = pd.read_excel('/content/drive/MyDrive/BD_Trades/APP_MC/D Terminator.xlsx')\n",
        "        amostra = int(df.shape[0] * 0.15)\n",
        "    elif opcao_selecionada == \"Tik Tok (com filtro)\":\n",
        "        df = pd.read_excel('/content/drive/MyDrive/BD_Trades/APP_MC/D Tik Tok Filtro Solar.xlsx')\n",
        "        amostra = int(df.shape[0] * 0.15)\n",
        "    elif opcao_selecionada == \"TikTok\":\n",
        "        df = pd.read_excel('/content/drive/MyDrive/BD_Trades/APP_MC/D TikTok.xlsx')\n",
        "        amostra = int(df.shape[0] * 0.15)\n",
        "    elif opcao_selecionada == \"Turtle\":\n",
        "        df = pd.read_excel('/content/drive/MyDrive/BD_Trades/APP_MC/D Turtle.xlsx')\n",
        "        amostra = int(df.shape[0] * 0.15)\n",
        "    elif opcao_selecionada == \"Joe Biden (com filtro MMA 20)\":\n",
        "        df = pd.read_excel('/content/drive/MyDrive/BD_Trades/APP_MC/D zJoe Biden.xlsx')\n",
        "        amostra = int(df.shape[0] * 0.15)\n",
        "    elif opcao_selecionada == \"Gambitti\":\n",
        "        df = pd.read_excel('/content/drive/MyDrive/BD_Trades/APP_MC/Dz Gambitti 0,5.xlsx')\n",
        "        amostra = int(df.shape[0] * 0.15)\n",
        "    elif opcao_selecionada == \"Gasparini\":\n",
        "        df = pd.read_excel('/content/drive/MyDrive/BD_Trades/APP_MC/Gasparini.xlsx')\n",
        "        amostra = int(df.shape[0] * 0.15)\n",
        "       \n",
        "\n",
        "    else:\n",
        "        df = pd.read_excel('/content/drive/MyDrive/BD_Trades/APP_MC/Gasparini.xlsx')\n",
        "\n",
        "    st.sidebar.title(opcao_selecionada)\n",
        "     # Mostrando a opção selecionada pelo usuário\n",
        "    st.write(\"Sistema:\", opcao_selecionada, \"Time Frame:\", time_frame , \"Período de:\", data_inicio, \"até\", data_fim)\n",
        "    # código para configurar a df e fazer os cálculos\n",
        "    # importa a tabela\n",
        "\n",
        "    \n",
        "    amostra1 = amostra + 1\n",
        "    random_rows = df.sample(amostra)\n",
        "    random_rows[\"Lucro Acumulado\"] = random_rows[\"Lucro\"].cumsum()\n",
        "    random_rows['Contagem'] = range(1,amostra1)\n",
        "\n",
        "\n",
        "    contagem_lucro_positivo = (random_rows[\"Lucro\"] > 0).sum()\n",
        "    media_lucro = df[df[\"Lucro\"] > 0][\"Lucro\"].mean()\n",
        "    media_prejuizo = df[df[\"Lucro\"] < 0][\"Lucro\"].mean()\n",
        "    payoff = media_lucro/-media_prejuizo\n",
        "    tx_erro = 1-contagem_lucro_positivo/amostra\n",
        "    exp_mat = (media_lucro * (1 - tx_erro) + media_prejuizo * tx_erro)/100\n",
        "    expmat_total = exp_mat * amostra\n",
        "\n",
        "    \n",
        "    # Cálculo básico\n",
        "    st.markdown(\"Taxa de acerto = **{:.2f}%**\".format(round(contagem_lucro_positivo/amostra*100, 2)))\n",
        "    st.markdown(\"PayOff = **{:.2f}**\".format(round(payoff, 2)))\n",
        "    st.markdown(\"Expectativa Matemática = **{:.2f}%** por trade\".format(round(exp_mat, 2)))\n",
        "    st.markdown(\"Expectativa Matemática Total = **{:.2f}%**\".format(round(expmat_total, 2)))\n",
        "\n",
        "\n",
        "    #calculando Drawdown\n",
        "    random_rows[\"Lucro Acumulado\"] = random_rows[\"Lucro\"].cumsum()\n",
        "    random_rows[\"Drawdown\"] = random_rows[\"Lucro Acumulado\"].cummin() - random_rows[\"Lucro Acumulado\"]\n",
        "    \n",
        "    st.title(\"Curva de Capital\")\n",
        "    # plotando gráfico\n",
        "    fig, ax = plt.subplots()\n",
        "    ax.plot(random_rows['Contagem'], random_rows['Lucro Acumulado'])\n",
        "    st.pyplot(width=1200)\n",
        "  \n",
        "    # TESTE MONTE CARLO configuração do teste\n",
        "    n_simulacoes = 100\n",
        "\n",
        "    # cria um vetor para armazenar os resultados\n",
        "    resultados = np.zeros((n_simulacoes, amostra))\n",
        "\n",
        "    # loop para simulações\n",
        "    for i in range(n_simulacoes):\n",
        "        # gera amostras aleatórias\n",
        "        random_rows = df.sample(amostra)\n",
        "        random_rows[\"Lucro Acumulado\"] = random_rows[\"Lucro\"].cumsum()\n",
        "       # armazena os resultados\n",
        "        resultados[i, :] = random_rows[\"Lucro Acumulado\"]\n",
        "    st.title(\"Monte Carlo\")\n",
        "    # plotando gráfico\n",
        "    plt.figure()\n",
        "    plt.plot(resultados.T)\n",
        "    \n",
        "    st.pyplot(width=800)\n",
        "    pass\n",
        "\n"
      ],
      "metadata": {
        "colab": {
          "base_uri": "https://localhost:8080/"
        },
        "id": "D7bKhQ1SNLRT",
        "outputId": "e184bba4-0ec6-481a-aeb7-224592debf79"
      },
      "execution_count": 2,
      "outputs": [
        {
          "output_type": "stream",
          "name": "stdout",
          "text": [
            "Writing app.py\n"
          ]
        }
      ]
    },
    {
      "cell_type": "code",
      "source": [
        "!streamlit run app.py & npx localtunnel --port 8501"
      ],
      "metadata": {
        "colab": {
          "base_uri": "https://localhost:8080/"
        },
        "id": "ZSTSm9CsNdYm",
        "outputId": "52219123-7bd5-4352-8a87-8398116bc6da"
      },
      "execution_count": null,
      "outputs": [
        {
          "output_type": "stream",
          "name": "stdout",
          "text": [
            "[..................] / fetchMetadata: sill resolveWithNewModule yargs@17.1.1 ch\u001b[0m\u001b[K\n",
            "Collecting usage statistics. To deactivate, set browser.gatherUsageStats to False.\n",
            "\u001b[0m\n",
            "\u001b[K\u001b[?25hnpx: installed 22 in 6.365s\n",
            "your url is: https://forty-pillows-sin-35-223-195-192.loca.lt\n",
            "\u001b[0m\n",
            "\u001b[34m\u001b[1m  You can now view your Streamlit app in your browser.\u001b[0m\n",
            "\u001b[0m\n",
            "\u001b[34m  Network URL: \u001b[0m\u001b[1mhttp://172.28.0.12:8501\u001b[0m\n",
            "\u001b[34m  External URL: \u001b[0m\u001b[1mhttp://35.223.195.192:8501\u001b[0m\n",
            "\u001b[0m\n"
          ]
        }
      ]
    },
    {
      "cell_type": "code",
      "source": [],
      "metadata": {
        "id": "vwVFIrhUNjLT"
      },
      "execution_count": null,
      "outputs": []
    }
  ]
}